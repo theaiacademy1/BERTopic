{
 "cells": [
  {
   "cell_type": "code",
   "execution_count": 1,
   "id": "ca1d330f",
   "metadata": {},
   "outputs": [
    {
     "name": "stdout",
     "output_type": "stream",
     "text": [
      "Collecting bertopic\n",
      "  Downloading bertopic-0.16.3-py3-none-any.whl (143 kB)\n",
      "     -------------------------------------- 143.5/143.5 kB 4.2 MB/s eta 0:00:00\n",
      "Collecting umap-learn>=0.5.0\n",
      "  Downloading umap_learn-0.5.6-py3-none-any.whl (85 kB)\n",
      "     ---------------------------------------- 85.7/85.7 kB 4.7 MB/s eta 0:00:00\n",
      "Collecting hdbscan>=0.8.29\n",
      "  Downloading hdbscan-0.8.37-cp310-cp310-win_amd64.whl (602 kB)\n",
      "     ------------------------------------- 602.7/602.7 kB 19.1 MB/s eta 0:00:00\n",
      "Requirement already satisfied: pandas>=1.1.5 in c:\\users\\vedpp\\anaconda3\\lib\\site-packages (from bertopic) (1.5.3)\n",
      "Requirement already satisfied: scikit-learn>=0.22.2.post1 in c:\\users\\vedpp\\anaconda3\\lib\\site-packages (from bertopic) (1.2.1)\n",
      "Requirement already satisfied: plotly>=4.7.0 in c:\\users\\vedpp\\anaconda3\\lib\\site-packages (from bertopic) (5.9.0)\n",
      "Requirement already satisfied: tqdm>=4.41.1 in c:\\users\\vedpp\\anaconda3\\lib\\site-packages (from bertopic) (4.66.4)\n",
      "Requirement already satisfied: numpy>=1.20.0 in c:\\users\\vedpp\\anaconda3\\lib\\site-packages (from bertopic) (1.23.5)\n",
      "Collecting sentence-transformers>=0.4.1\n",
      "  Downloading sentence_transformers-3.0.1-py3-none-any.whl (227 kB)\n",
      "     ------------------------------------- 227.1/227.1 kB 13.6 MB/s eta 0:00:00\n",
      "Collecting cython<3,>=0.27\n",
      "  Downloading Cython-0.29.37-py2.py3-none-any.whl (989 kB)\n",
      "     ------------------------------------- 989.5/989.5 kB 12.6 MB/s eta 0:00:00\n",
      "Requirement already satisfied: joblib>=1.0 in c:\\users\\vedpp\\anaconda3\\lib\\site-packages (from hdbscan>=0.8.29->bertopic) (1.1.1)\n",
      "Requirement already satisfied: scipy>=1.0 in c:\\users\\vedpp\\anaconda3\\lib\\site-packages (from hdbscan>=0.8.29->bertopic) (1.10.0)\n",
      "Requirement already satisfied: pytz>=2020.1 in c:\\users\\vedpp\\anaconda3\\lib\\site-packages (from pandas>=1.1.5->bertopic) (2022.7)\n",
      "Requirement already satisfied: python-dateutil>=2.8.1 in c:\\users\\vedpp\\anaconda3\\lib\\site-packages (from pandas>=1.1.5->bertopic) (2.8.2)\n",
      "Requirement already satisfied: tenacity>=6.2.0 in c:\\users\\vedpp\\anaconda3\\lib\\site-packages (from plotly>=4.7.0->bertopic) (8.0.1)\n",
      "Requirement already satisfied: threadpoolctl>=2.0.0 in c:\\users\\vedpp\\anaconda3\\lib\\site-packages (from scikit-learn>=0.22.2.post1->bertopic) (2.2.0)\n",
      "Requirement already satisfied: transformers<5.0.0,>=4.34.0 in c:\\users\\vedpp\\anaconda3\\lib\\site-packages (from sentence-transformers>=0.4.1->bertopic) (4.43.1)\n",
      "Requirement already satisfied: huggingface-hub>=0.15.1 in c:\\users\\vedpp\\anaconda3\\lib\\site-packages (from sentence-transformers>=0.4.1->bertopic) (0.23.4)\n",
      "Requirement already satisfied: torch>=1.11.0 in c:\\users\\vedpp\\anaconda3\\lib\\site-packages (from sentence-transformers>=0.4.1->bertopic) (1.12.1)\n",
      "Requirement already satisfied: Pillow in c:\\users\\vedpp\\anaconda3\\lib\\site-packages (from sentence-transformers>=0.4.1->bertopic) (9.4.0)\n",
      "Requirement already satisfied: colorama in c:\\users\\vedpp\\anaconda3\\lib\\site-packages (from tqdm>=4.41.1->bertopic) (0.4.6)\n",
      "Requirement already satisfied: numba>=0.51.2 in c:\\users\\vedpp\\anaconda3\\lib\\site-packages (from umap-learn>=0.5.0->bertopic) (0.56.4)\n",
      "Collecting pynndescent>=0.5\n",
      "  Downloading pynndescent-0.5.13-py3-none-any.whl (56 kB)\n",
      "     ---------------------------------------- 56.9/56.9 kB ? eta 0:00:00\n",
      "Requirement already satisfied: filelock in c:\\users\\vedpp\\anaconda3\\lib\\site-packages (from huggingface-hub>=0.15.1->sentence-transformers>=0.4.1->bertopic) (3.9.0)\n",
      "Requirement already satisfied: fsspec>=2023.5.0 in c:\\users\\vedpp\\anaconda3\\lib\\site-packages (from huggingface-hub>=0.15.1->sentence-transformers>=0.4.1->bertopic) (2024.5.0)\n",
      "Requirement already satisfied: pyyaml>=5.1 in c:\\users\\vedpp\\anaconda3\\lib\\site-packages (from huggingface-hub>=0.15.1->sentence-transformers>=0.4.1->bertopic) (6.0)\n",
      "Requirement already satisfied: typing-extensions>=3.7.4.3 in c:\\users\\vedpp\\anaconda3\\lib\\site-packages (from huggingface-hub>=0.15.1->sentence-transformers>=0.4.1->bertopic) (4.12.1)\n",
      "Requirement already satisfied: requests in c:\\users\\vedpp\\anaconda3\\lib\\site-packages (from huggingface-hub>=0.15.1->sentence-transformers>=0.4.1->bertopic) (2.32.3)\n",
      "Requirement already satisfied: packaging>=20.9 in c:\\users\\vedpp\\anaconda3\\lib\\site-packages (from huggingface-hub>=0.15.1->sentence-transformers>=0.4.1->bertopic) (22.0)\n",
      "Requirement already satisfied: setuptools in c:\\users\\vedpp\\anaconda3\\lib\\site-packages (from numba>=0.51.2->umap-learn>=0.5.0->bertopic) (65.6.3)\n",
      "Requirement already satisfied: llvmlite<0.40,>=0.39.0dev0 in c:\\users\\vedpp\\anaconda3\\lib\\site-packages (from numba>=0.51.2->umap-learn>=0.5.0->bertopic) (0.39.1)\n",
      "Requirement already satisfied: six>=1.5 in c:\\users\\vedpp\\anaconda3\\lib\\site-packages (from python-dateutil>=2.8.1->pandas>=1.1.5->bertopic) (1.16.0)\n",
      "Requirement already satisfied: regex!=2019.12.17 in c:\\users\\vedpp\\anaconda3\\lib\\site-packages (from transformers<5.0.0,>=4.34.0->sentence-transformers>=0.4.1->bertopic) (2022.7.9)\n",
      "Requirement already satisfied: safetensors>=0.4.1 in c:\\users\\vedpp\\anaconda3\\lib\\site-packages (from transformers<5.0.0,>=4.34.0->sentence-transformers>=0.4.1->bertopic) (0.4.3)\n",
      "Requirement already satisfied: tokenizers<0.20,>=0.19 in c:\\users\\vedpp\\anaconda3\\lib\\site-packages (from transformers<5.0.0,>=4.34.0->sentence-transformers>=0.4.1->bertopic) (0.19.1)\n",
      "Requirement already satisfied: charset-normalizer<4,>=2 in c:\\users\\vedpp\\anaconda3\\lib\\site-packages (from requests->huggingface-hub>=0.15.1->sentence-transformers>=0.4.1->bertopic) (2.0.4)\n",
      "Requirement already satisfied: urllib3<3,>=1.21.1 in c:\\users\\vedpp\\anaconda3\\lib\\site-packages (from requests->huggingface-hub>=0.15.1->sentence-transformers>=0.4.1->bertopic) (1.26.14)\n",
      "Requirement already satisfied: certifi>=2017.4.17 in c:\\users\\vedpp\\anaconda3\\lib\\site-packages (from requests->huggingface-hub>=0.15.1->sentence-transformers>=0.4.1->bertopic) (2022.12.7)\n",
      "Requirement already satisfied: idna<4,>=2.5 in c:\\users\\vedpp\\anaconda3\\lib\\site-packages (from requests->huggingface-hub>=0.15.1->sentence-transformers>=0.4.1->bertopic) (3.4)\n",
      "Installing collected packages: cython, pynndescent, hdbscan, umap-learn, sentence-transformers, bertopic\n",
      "Successfully installed bertopic-0.16.3 cython-0.29.37 hdbscan-0.8.37 pynndescent-0.5.13 sentence-transformers-3.0.1 umap-learn-0.5.6\n",
      "Note: you may need to restart the kernel to use updated packages.\n"
     ]
    }
   ],
   "source": [
    "pip install bertopic"
   ]
  },
  {
   "cell_type": "code",
   "execution_count": null,
   "id": "f70dadbf",
   "metadata": {},
   "outputs": [],
   "source": []
  }
 ],
 "metadata": {
  "kernelspec": {
   "display_name": "Python 3 (ipykernel)",
   "language": "python",
   "name": "python3"
  },
  "language_info": {
   "codemirror_mode": {
    "name": "ipython",
    "version": 3
   },
   "file_extension": ".py",
   "mimetype": "text/x-python",
   "name": "python",
   "nbconvert_exporter": "python",
   "pygments_lexer": "ipython3",
   "version": "3.10.9"
  }
 },
 "nbformat": 4,
 "nbformat_minor": 5
}
